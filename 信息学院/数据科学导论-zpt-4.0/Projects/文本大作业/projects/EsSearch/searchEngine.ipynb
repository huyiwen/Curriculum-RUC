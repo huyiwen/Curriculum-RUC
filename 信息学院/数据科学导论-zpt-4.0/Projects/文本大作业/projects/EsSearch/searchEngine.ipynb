{
 "cells": [
  {
   "cell_type": "code",
   "execution_count": null,
   "metadata": {},
   "outputs": [],
   "source": [
    "from elasticsearch import Elasticsearch\n",
    "es = Elasticsearch()"
   ]
  },
  {
   "cell_type": "code",
   "execution_count": null,
   "metadata": {},
   "outputs": [],
   "source": [
    "es.search(index='message')"
   ]
  },
  {
   "cell_type": "code",
   "execution_count": 49,
   "metadata": {},
   "outputs": [
    {
     "output_type": "execute_result",
     "data": {
      "text/plain": "{'acknowledged': True}"
     },
     "metadata": {},
     "execution_count": 49
    }
   ],
   "source": [
    "es.indices.delete(index='message')"
   ]
  },
  {
   "cell_type": "code",
   "execution_count": 47,
   "metadata": {},
   "outputs": [],
   "source": [
    "test = {\n",
    "    'query':{\n",
    "        'match':{\n",
    "            'content':'促销'\n",
    "        }\n",
    "    }\n",
    "}\n",
    "result = es.search(body=test)"
   ]
  },
  {
   "cell_type": "code",
   "execution_count": 44,
   "metadata": {},
   "outputs": [
    {
     "output_type": "execute_result",
     "data": {
      "text/plain": "'泰国48岁男子强奸12岁瘫痪女童被捕'"
     },
     "metadata": {},
     "execution_count": 44
    }
   ],
   "source": [
    "result['hits']['hits'][1]['_source']['content']"
   ]
  },
  {
   "cell_type": "code",
   "execution_count": 48,
   "metadata": {},
   "outputs": [
    {
     "output_type": "execute_result",
     "data": {
      "text/plain": "{'took': 26,\n 'timed_out': False,\n '_shards': {'total': 1, 'successful': 1, 'skipped': 0, 'failed': 0},\n 'hits': {'total': {'value': 1900, 'relation': 'eq'},\n  'max_score': 9.176849,\n  'hits': [{'_index': 'message',\n    '_type': '_doc',\n    '_id': 'ZUt7QHIBViG9V8LdA7Sn',\n    '_score': 9.176849,\n    '_source': {'content': '亚马逊中国今日镇店之宝促销多款美妆促销', 'label': '0'}},\n   {'_index': 'message',\n    '_type': '_doc',\n    '_id': 'B1J7QHIBViG9V8LdkhOd',\n    '_score': 8.845363,\n    '_source': {'content': '促销活动：美国亚马逊PRIME会员精选商品额外x折促销详情', 'label': '0'}},\n   {'_index': 'message',\n    '_type': '_doc',\n    '_id': 'sEp6QHIBViG9V8Ld6Yzx',\n    '_score': 8.762083,\n    '_source': {'content': '本周PrimeDay促销当天', 'label': '0'}},\n   {'_index': 'message',\n    '_type': '_doc',\n    '_id': '2kh6QHIBViG9V8Ldun1H',\n    '_score': 8.45939,\n    '_source': {'content': 'Amazon精选RebeccaMinkoff特价促销', 'label': '0'}},\n   {'_index': 'message',\n    '_type': '_doc',\n    '_id': 'LUl6QHIBViG9V8Ldyz4a',\n    '_score': 8.45939,\n    '_source': {'content': 'com精选SteveMadden鞋子促销', 'label': '0'}},\n   {'_index': 'message',\n    '_type': '_doc',\n    '_id': 'Vkp6QHIBViG9V8Ld4z8U',\n    '_score': 8.45939,\n    '_source': {'content': 'Crafts儿童手工玩具促销', 'label': '0'}},\n   {'_index': 'message',\n    '_type': '_doc',\n    '_id': 'w0d6QHIBViG9V8LdmDcW',\n    '_score': 8.176912,\n    '_source': {'content': '北京/武汉/合肥都有相似促销', 'label': '0'}},\n   {'_index': 'message',\n    '_type': '_doc',\n    '_id': '3k17QHIBViG9V8LdK3_-',\n    '_score': 8.176912,\n    '_source': {'content': 'com精选MarcbyMarcJacobs萌鞋促销', 'label': '0'}},\n   {'_index': 'message',\n    '_type': '_doc',\n    '_id': 'MlB7QHIBViG9V8LdYwJ5',\n    '_score': 8.176912,\n    '_source': {'content': 'com现有宝宝衣服促销热卖', 'label': '0'}},\n   {'_index': 'message',\n    '_type': '_doc',\n    '_id': 'Dkp6QHIBViG9V8Ld40fB',\n    '_score': 8.112741,\n    '_source': {'content': '徐福记招聘周末促销员达生招聘徐福记促销员：门店华侨城沃尔玛', 'label': '0'}}]}}"
     },
     "metadata": {},
     "execution_count": 48
    }
   ],
   "source": [
    "result"
   ]
  },
  {
   "cell_type": "code",
   "execution_count": null,
   "metadata": {},
   "outputs": [],
   "source": []
  }
 ],
 "metadata": {
  "language_info": {
   "codemirror_mode": {
    "name": "ipython",
    "version": 3
   },
   "file_extension": ".py",
   "mimetype": "text/x-python",
   "name": "python",
   "nbconvert_exporter": "python",
   "pygments_lexer": "ipython3",
   "version": "3.7.4-final"
  },
  "orig_nbformat": 2,
  "kernelspec": {
   "name": "python3",
   "display_name": "Python 3"
  }
 },
 "nbformat": 4,
 "nbformat_minor": 2
}