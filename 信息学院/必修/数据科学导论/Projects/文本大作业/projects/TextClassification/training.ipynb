{
 "cells": [
  {
   "cell_type": "code",
   "execution_count": 2,
   "metadata": {},
   "outputs": [],
   "source": [
    "from sklearn import feature_extraction\n",
    "from sklearn.feature_extraction.text import TfidfTransformer\n",
    "from sklearn.feature_extraction.text import CountVectorizer\n",
    " \n",
    "\n",
    "documents = []\n",
    "with open(r'C:\\Pt_Python\\data\\text\\train_preprocess.txt','r',encoding='utf-8') as f:\n",
    "    for line in f:\n",
    "        line = line.strip()\n",
    "        documents.append(line)\n",
    "\n",
    "with open(r'C:\\Pt_Python\\data\\text\\test_preprocess.txt','r',encoding='utf-8') as f:\n",
    "    for line in f:\n",
    "        line = line.strip()\n",
    "        documents.append(line)\n",
    "\n",
    "vectorizer=CountVectorizer()#该类会将文本中的词语转换为词频矩阵，矩阵元素a[i][j] 表示j词在i类文本下的词频\n",
    "transformer=TfidfTransformer()#该类会统计每个词语的tf-idf权值\n",
    "corpus = vectorizer.fit_transform(documents)#第一个fit_transform是计算tf-idf，第二个fit_transform是将文\n",
    "tfidf = transformer.fit_transform(corpus)\n",
    "word=vectorizer.get_feature_names()"
   ]
  },
  {
   "cell_type": "code",
   "execution_count": 3,
   "metadata": {},
   "outputs": [],
   "source": [
    "from sklearn.model_selection import train_test_split"
   ]
  },
  {
   "cell_type": "code",
   "execution_count": 4,
   "metadata": {},
   "outputs": [],
   "source": [
    "labels = []\n",
    "with open(r'C:\\Pt_Python\\data\\text\\train.txt','r',encoding='utf-8') as f:\n",
    "    for line in f:\n",
    "        labels.append(int(line[0]))"
   ]
  },
  {
   "cell_type": "code",
   "execution_count": 5,
   "metadata": {},
   "outputs": [],
   "source": [
    "from sklearn.naive_bayes import MultinomialNB\n",
    "from sklearn.model_selection import train_test_split\n",
    "naive_bayes = MultinomialNB()"
   ]
  },
  {
   "cell_type": "code",
   "execution_count": 6,
   "metadata": {},
   "outputs": [],
   "source": [
    "x_train,x_test,y_train,y_test = train_test_split(tfidf[0:800000],labels,test_size=0.3)"
   ]
  },
  {
   "cell_type": "code",
   "execution_count": 9,
   "metadata": {},
   "outputs": [],
   "source": [
    "naive_bayes.fit(x_train,y_train)\n",
    "y_pred = naive_bayes.predict(x_test)"
   ]
  },
  {
   "cell_type": "code",
   "execution_count": 10,
   "metadata": {},
   "outputs": [
    {
     "output_type": "stream",
     "name": "stdout",
     "text": "[[214760   1322]\n [  2019  21899]]\n              precision    recall  f1-score   support\n\n           0       0.99      0.99      0.99    216082\n           1       0.94      0.92      0.93     23918\n\n    accuracy                           0.99    240000\n   macro avg       0.97      0.95      0.96    240000\nweighted avg       0.99      0.99      0.99    240000\n\n"
    }
   ],
   "source": [
    "from sklearn.metrics import confusion_matrix,classification_report\n",
    "y_pred = naive_bayes.predict(x_test)\n",
    "print(confusion_matrix(y_test,y_pred))\n",
    "print(classification_report(y_test,y_pred))"
   ]
  },
  {
   "cell_type": "code",
   "execution_count": 101,
   "metadata": {},
   "outputs": [],
   "source": [
    "test_pred = naive_bayes.predict(tfidf[800000:1000000])"
   ]
  },
  {
   "cell_type": "code",
   "execution_count": 116,
   "metadata": {},
   "outputs": [],
   "source": [
    "f = open(r'C:\\Pt_Python\\data\\text\\test.txt','r',encoding='utf-8')\n",
    "with open(r'C:\\Pt_Python\\data\\text\\test_labels.txt','a+',encoding='utf-8') as g:\n",
    "    i = 0\n",
    "    for line in f:\n",
    "        line = str(test_pred[i])+' '+line\n",
    "        g.write(line)\n",
    "        i+=1"
   ]
  },
  {
   "cell_type": "code",
   "execution_count": null,
   "metadata": {},
   "outputs": [],
   "source": []
  }
 ],
 "metadata": {
  "language_info": {
   "codemirror_mode": {
    "name": "ipython",
    "version": 3
   },
   "file_extension": ".py",
   "mimetype": "text/x-python",
   "name": "python",
   "nbconvert_exporter": "python",
   "pygments_lexer": "ipython3",
   "version": "3.7.4-final"
  },
  "orig_nbformat": 2,
  "kernelspec": {
   "name": "python3",
   "display_name": "Python 3"
  }
 },
 "nbformat": 4,
 "nbformat_minor": 2
}