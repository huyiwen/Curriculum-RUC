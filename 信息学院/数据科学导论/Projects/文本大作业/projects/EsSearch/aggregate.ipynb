{
 "cells": [
  {
   "cell_type": "code",
   "execution_count": 1,
   "metadata": {},
   "outputs": [],
   "source": [
    "f = open(r'C:\\Pt_Python\\data\\text\\test_labels.txt','r',encoding='utf-8')\n",
    "h = open(r'C:\\Pt_Python\\data\\text\\train.txt','r',encoding='utf-8')\n",
    "with open(r'C:\\Pt_Python\\data\\text\\total_labels.txt','a+',encoding='utf-8') as g:\n",
    "    for line in h:\n",
    "        g.write(line)\n",
    "    for line in f:\n",
    "        g.write(line)"
   ]
  },
  {
   "cell_type": "code",
   "execution_count": null,
   "metadata": {},
   "outputs": [],
   "source": []
  }
 ],
 "metadata": {
  "language_info": {
   "codemirror_mode": {
    "name": "ipython",
    "version": 3
   },
   "file_extension": ".py",
   "mimetype": "text/x-python",
   "name": "python",
   "nbconvert_exporter": "python",
   "pygments_lexer": "ipython3",
   "version": "3.7.4-final"
  },
  "orig_nbformat": 2,
  "kernelspec": {
   "name": "python3",
   "display_name": "Python 3"
  }
 },
 "nbformat": 4,
 "nbformat_minor": 2
}