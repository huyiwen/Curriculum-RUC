{
 "cells": [
  {
   "cell_type": "markdown",
   "metadata": {},
   "source": [
    "# 文本附加试验1\n",
    "## 张配天 2018202180\n",
    "\n",
    "使用LSI\n",
    "- set函数构造不重复的iterable集合,split()默认以空格为分隔符\n",
    "- 使用simple_preprocess处理数据,其会自动将字符串统一为小写,并且转化为列表,设置deacc=Ture来去除特殊符号\n",
    "- 英文还可以用simple_preprocess来统一不同词性的相同单词\n",
    "- defaultdict给字典设置缺省值\n",
    "- *不去除符号的坏影响??*\n",
    "\n",
    "\n",
    "*代码啥的都在下一页*"
   ]
  },
  {
   "cell_type": "code",
   "execution_count": 122,
   "metadata": {
    "tags": [
     "outputPrepend"
    ]
   },
   "outputs": [],
   "source": [
    "from collections import defaultdict\n",
    "from gensim import corpora\n",
    "from gensim.utils import simple_preprocess\n",
    "\n",
    "with open(r'C:\\Pt_Python\\data\\documents_2.txt','r',encoding='utf-8') as f:\n",
    "    documents = []\n",
    "    for line in f:\n",
    "        line = line[:-1]\n",
    "        documents.append(line)\n",
    "#print(documents)\n",
    "def remove_symbol(documents):    \n",
    "    for document in documents:        \n",
    "        yield(simple_preprocess(str(document), deacc=True))\n",
    "\n",
    "documents = remove_symbol(documents)\n",
    "\n",
    "stoplist_2 = ['a','of','in','and','to','is','啊','是','的','you','are','will','what','i']\n",
    "#stoplist = [', ','。',';','“','”',':','，','','.','|','\\'',':','...','-','：','、','…',',','\\\"','i','the','!','?','！','a','of','in','and','to','is','啊','是','的','you','are','will','？','what']\n",
    "\n",
    "for i in range(1,11):\n",
    "    word = '第'+str(i)+'集'\n",
    "    stoplist.append(word)\n",
    "    word = 'E0{}'.format(i)\n",
    "    stoplist.append(word)\n",
    "'''\n",
    "texts = [\n",
    "    [word for word in document.lower().split() if word not in stoplist]\n",
    "    for document in documents\n",
    "]\n",
    "'''\n",
    "texts = [\n",
    "    [word for word in simple_preprocess(str(document)) if word not in stoplist]\n",
    "    for document in documents\n",
    "]\n",
    "\n",
    "frequency = defaultdict(int)\n",
    "for text in texts:\n",
    "    for word in text:\n",
    "        frequency[word] += 1\n",
    "\n",
    "texts = [\n",
    "    [word for word in line if frequency[word] >= 2]\n",
    "    for line in texts  \n",
    "]"
   ]
  },
  {
   "cell_type": "code",
   "execution_count": 123,
   "metadata": {
    "tags": [
     "outputPrepend"
    ]
   },
   "outputs": [],
   "source": [
    "#装载字典\n",
    "dictionary = corpora.Dictionary(texts)\n",
    "#生成向量集\n",
    "corpus = [dictionary.doc2bow(text) for text in texts]"
   ]
  },
  {
   "cell_type": "code",
   "execution_count": 124,
   "metadata": {
    "tags": [
     "outputPrepend"
    ]
   },
   "outputs": [],
   "source": [
    "from gensim import models\n",
    "#转换成tfidf\n",
    "tfidf = models.TfidfModel(corpus)\n",
    "corpus_tfidf = tfidf[corpus]"
   ]
  },
  {
   "cell_type": "code",
   "execution_count": 125,
   "metadata": {},
   "outputs": [
    {
     "data": {
      "text/plain": [
       "[(0,\n",
       "  '-0.503*\"最后\" + -0.488*\"一集\" + -0.259*\"好看\" + -0.256*\"第一季\" + -0.186*\"脑洞\" + -0.177*\"第二季\" + -0.156*\"还是\" + -0.131*\"悲伤\" + -0.130*\"rick\" + -0.108*\"喜欢\"'),\n",
       " (1,\n",
       "  '-0.529*\"好看\" + 0.407*\"一集\" + 0.402*\"最后\" + -0.357*\"第一季\" + -0.217*\"everything\" + -0.202*\"第二季\" + -0.200*\"for\" + -0.113*\"还是\" + -0.096*\"牛逼\" + 0.092*\"悲伤\"'),\n",
       " (2,\n",
       "  '-0.678*\"everything\" + -0.633*\"for\" + 0.247*\"好看\" + 0.159*\"第一季\" + 0.089*\"第二季\" + -0.069*\"催泪\" + -0.067*\"泪目\" + -0.061*\"最后\" + -0.059*\"一集\" + -0.058*\"love\"'),\n",
       " (3,\n",
       "  '-0.649*\"好看\" + -0.306*\"牛逼\" + 0.268*\"第一季\" + 0.255*\"脑洞\" + -0.173*\"一集\" + -0.168*\"最后\" + 0.164*\"第二季\" + 0.133*\"还是\" + 0.131*\"宇宙\" + 0.110*\"喜欢\"')]"
      ]
     },
     "execution_count": 125,
     "metadata": {},
     "output_type": "execute_result"
    }
   ],
   "source": [
    "lsi_model = models.LsiModel(corpus_tfidf,id2word=dictionary,num_topics=4)\n",
    "corpus_lsi = lsi_model[corpus_tfidf]\n",
    "lsi_model.print_topics(4)"
   ]
  },
  {
   "cell_type": "markdown",
   "metadata": {},
   "source": [
    "- 效果嘛有待商榷,但是第三个topic做的很好:*rick and morty第二季最后一集,确实相当催泪,也展现了love*\n",
    "- 但是可以发现第一第二个topic基本类似"
   ]
  },
  {
   "cell_type": "markdown",
   "metadata": {},
   "source": [
    "## 使用非负矩阵分解法。\n",
    "- Dictionary的实例有id2token属性,用于返回以id为索引的单词表,加入这个参数可以在print时输出单词而非id\n"
   ]
  },
  {
   "cell_type": "code",
   "execution_count": 126,
   "metadata": {},
   "outputs": [
    {
     "data": {
      "text/plain": [
       "[(0,\n",
       "  '0.010*\"五星\" + 0.010*\"神作\" + 0.010*\"宇宙\" + 0.010*\"第二季\" + 0.010*\"好看\" + 0.010*\"第三季\" + 0.009*\"看到\" + 0.008*\"悲伤\" + 0.008*\"外公\" + 0.008*\"结局\"'),\n",
       " (1,\n",
       "  '0.019*\"一集\" + 0.018*\"最后\" + 0.017*\"脑洞\" + 0.012*\"神剧\" + 0.012*\"rick\" + 0.012*\"编剧\" + 0.011*\"宇宙\" + 0.011*\"牛逼\" + 0.009*\"一个\" + 0.009*\"瑞克\"'),\n",
       " (2,\n",
       "  '0.022*\"还是\" + 0.013*\"everything\" + 0.013*\"喜欢\" + 0.010*\"第一季\" + 0.009*\"hurt\" + 0.009*\"可以\" + 0.008*\"人类\" + 0.008*\"竟然\" + 0.008*\"结尾\" + 0.008*\"动画\"')]"
      ]
     },
     "execution_count": 126,
     "metadata": {},
     "output_type": "execute_result"
    }
   ],
   "source": [
    "from gensim.models import nmf\n",
    "id_dict = dictionary.id2token\n",
    "corpus_nmf = nmf.Nmf(corpus_tfidf,num_topics=3,id2word=id_dict)\n",
    "result = corpus_nmf.print_topics(3)\n",
    "result"
   ]
  },
  {
   "cell_type": "code",
   "execution_count": 127,
   "metadata": {},
   "outputs": [
    {
     "name": "stdout",
     "output_type": "stream",
     "text": [
      "Word2Vec(vocab=742, size=2, alpha=0.025)\n"
     ]
    }
   ],
   "source": [
    "from gensim.models import Word2Vec\n",
    "w2v = Word2Vec(texts,min_count=1,size=2)\n",
    "print(w2v)"
   ]
  },
  {
   "cell_type": "code",
   "execution_count": 128,
   "metadata": {},
   "outputs": [
    {
     "name": "stdout",
     "output_type": "stream",
     "text": [
      "'第二季'\t'好看'\t0.96\n",
      "'rick'\t'morty'\t-1.00\n"
     ]
    }
   ],
   "source": [
    "pairs = [\n",
    "    ('第二季', '好看'), \n",
    "    ('rick', 'morty')\n",
    "]\n",
    "for w1, w2 in pairs:\n",
    "    print('%r\\t%r\\t%.2f' % (w1, w2, w2v.wv.similarity(w1, w2)))"
   ]
  },
  {
   "cell_type": "markdown",
   "metadata": {},
   "source": [
    "这里可见\n",
    "- 第二季确实很好看\n",
    "- rick确实相当 讨厌 morty了哈哈哈哈哈,你能看到我加双引号的位置么?"
   ]
  }
 ],
 "metadata": {
  "kernelspec": {
   "display_name": "Python 3",
   "language": "python",
   "name": "python3"
  },
  "language_info": {
   "codemirror_mode": {
    "name": "ipython",
    "version": 3
   },
   "file_extension": ".py",
   "mimetype": "text/x-python",
   "name": "python",
   "nbconvert_exporter": "python",
   "pygments_lexer": "ipython3",
   "version": "3.7.4"
  }
 },
 "nbformat": 4,
 "nbformat_minor": 2
}
